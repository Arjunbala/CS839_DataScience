{
 "cells": [
  {
   "cell_type": "code",
   "execution_count": 1,
   "metadata": {},
   "outputs": [
    {
     "name": "stdout",
     "output_type": "stream",
     "text": [
      "2997152\n",
      "2984885\n",
      "12267\n"
     ]
    }
   ],
   "source": [
    "#Applying Jaccard similarity measure on movie names.\n",
    "import pandas as pd\n",
    "def tokenize(s):\n",
    "    s = '##' + s + '##'\n",
    "    length = 3\n",
    "    tokens = []\n",
    "    for i in range(len(s) - length + 1):\n",
    "        tokens.append(s[i:i+length])\n",
    "    return tokens\n",
    "\n",
    "def jaccard_similarity(x,y):  \n",
    "    intersection_cardinality = len(set.intersection(*[set(x), set(y)]))\n",
    "    union_cardinality = len(set.union(*[set(x), set(y)]))\n",
    "    return intersection_cardinality/float(union_cardinality)\n",
    "\n",
    "df = pd.read_csv('MoviesMatching_apply_rules_ds')\n",
    "df_tableA = pd.read_csv('IMDB')\n",
    "df_tableB = pd.read_csv('Metacritic')\n",
    "print(len(df))\n",
    "indexes = []\n",
    "for index, row in df.iterrows():\n",
    "    try:\n",
    "        a = df_tableA.iloc[row['A_id']]['Name'] \n",
    "        b = df_tableB.iloc[row['B_id']]['Name']\n",
    "        jac_measure = jaccard_similarity(tokenize(a), tokenize(b))\n",
    "        if jac_measure < 0.2 :\n",
    "            indexes.append(index)\n",
    "    except:\n",
    "        pass\n",
    "\n",
    "\n",
    "print(len(indexes));\n",
    "df2 = df.drop(df.index[indexes]);\n",
    "\n",
    "print(len(df2))\n"
   ]
  },
  {
   "cell_type": "code",
   "execution_count": 2,
   "metadata": {},
   "outputs": [
    {
     "name": "stdout",
     "output_type": "stream",
     "text": [
      "2029\n"
     ]
    }
   ],
   "source": [
    "indexes2 = []\n",
    "for index, row in df2.iterrows():\n",
    "    try:\n",
    "        a = df_tableA.iloc[row['A_id']]['Name'] \n",
    "        b = df_tableB.iloc[row['B_id']]['Name']\n",
    "        jac_measure = jaccard_similarity(tokenize(a), tokenize(b))\n",
    "        if jac_measure < 0.3 :\n",
    "            indexes2.append(index)\n",
    "    except:\n",
    "        pass\n",
    "df3 = df2.drop(df.index[indexes2]);\n",
    "print(len(df3))\n",
    "\n"
   ]
  },
  {
   "cell_type": "code",
   "execution_count": 3,
   "metadata": {},
   "outputs": [],
   "source": [
    "df3.to_csv('candidate_set_after_blocking', index = False)"
   ]
  },
  {
   "cell_type": "code",
   "execution_count": 7,
   "metadata": {},
   "outputs": [
    {
     "name": "stdout",
     "output_type": "stream",
     "text": [
      "   A_id              A_name A_year  B_id                 B_name  B_year\n",
      "0  1010       Adventureland   2009  1713          Adventureland  2009.0\n",
      "1  1019  The Man from Earth   2007   687  The Salt of the Earth  2015.0\n",
      "2   104        Transformers   2007  2487             Transpecos  2016.0\n",
      "3  1058                Antz   1998  2630                   Antz  1998.0\n",
      "4  1061        The Punisher   2004  1973              The Boxer  1997.0\n"
     ]
    }
   ],
   "source": [
    "df4 = pd.DataFrame(columns=['A_id','A_name','A_year','B_id','B_name','B_year'])\n",
    "for index, row in df3.iterrows():\n",
    "    try:\n",
    "        a = df_tableA.iloc[row['A_id']]['Name'] \n",
    "        b = df_tableB.iloc[row['B_id']]['Name']\n",
    "        c = df_tableA.iloc[row['A_id']]['Year'] \n",
    "        d = df_tableB.iloc[row['B_id']]['Year']\n",
    "        df4 = df4.append({\n",
    "         \"A_id\": row['A_id'],\n",
    "         \"A_name\":  a,\n",
    "         \"A_year\": c,\n",
    "         \"B_id\": row['B_id'],\n",
    "         \"B_name\": b,\n",
    "         \"B_year\": d\n",
    "      }, ignore_index=True)\n",
    "    except:\n",
    "        pass\n",
    "print(df4.head())"
   ]
  },
  {
   "cell_type": "code",
   "execution_count": 10,
   "metadata": {
    "scrolled": true
   },
   "outputs": [
    {
     "name": "stdout",
     "output_type": "stream",
     "text": [
      "2029\n",
      "      A_id           A_name A_year  B_id           B_name  B_year\n",
      "1834    52  The Truman Show   1998   194  The Truman Show  1998.0\n",
      "827   1821     Out of Sight   1998   551     Out of Sight  1998.0\n",
      "1734  2830          Head-On   2004  1379          Head-On  2005.0\n",
      "885   2025  The Fisher King   1991  2889      The Falling  2015.0\n",
      "236   2057    The Last Song   2010   926    The Levelling  2017.0\n"
     ]
    }
   ],
   "source": [
    "print(len(df4))\n",
    "df5 = df4.sample(400)\n",
    "print(df5.head())\n",
    "df5.to_csv('to_be_labeled_2', index=False)"
   ]
  },
  {
   "cell_type": "code",
   "execution_count": 2,
   "metadata": {},
   "outputs": [],
   "source": [
    "df6 = pd.read_csv('to_be_labeled')\n",
    "df7 = df6.drop(columns=['A_name','A_year','B_name','B_year'])\n",
    "df7.to_csv('Labeled_final', index=False)"
   ]
  },
  {
   "cell_type": "code",
   "execution_count": null,
   "metadata": {},
   "outputs": [],
   "source": []
  }
 ],
 "metadata": {
  "kernelspec": {
   "display_name": "Python 3",
   "language": "python",
   "name": "python3"
  },
  "language_info": {
   "codemirror_mode": {
    "name": "ipython",
    "version": 3
   },
   "file_extension": ".py",
   "mimetype": "text/x-python",
   "name": "python",
   "nbconvert_exporter": "python",
   "pygments_lexer": "ipython3",
   "version": "3.6.5"
  }
 },
 "nbformat": 4,
 "nbformat_minor": 2
}
